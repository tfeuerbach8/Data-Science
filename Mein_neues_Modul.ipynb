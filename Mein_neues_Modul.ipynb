{
  "nbformat": 4,
  "nbformat_minor": 0,
  "metadata": {
    "colab": {
      "name": "Mein neues Modul.ipynb",
      "provenance": [],
      "collapsed_sections": []
    },
    "kernelspec": {
      "name": "python3",
      "display_name": "Python 3"
    },
    "language_info": {
      "name": "python"
    }
  },
  "cells": [
    {
      "cell_type": "markdown",
      "source": [
        "Mein neues Modul"
      ],
      "metadata": {
        "id": "MP0L3AjyCl-C"
      }
    },
    {
      "cell_type": "code",
      "source": [
        "\"\"\"\n",
        "Class ListKeeper\n",
        "Keeps a dictionary of lists and provides some methods to operate on the items \n",
        "\"\"\"\n",
        "class ListKeeper:\n",
        "    \"\"\"\n",
        "    There are no private variables in Python, but vars starting with __ are a bit protected \n",
        "    by via renaming through the interpreter (not a security feature!)\n",
        "    \"\"\"\n",
        "    __listDict = dict()\n",
        "    \n",
        "    \"\"\"\n",
        "    __init__()\n",
        "    Constructor\n",
        "    \"\"\"\n",
        "    def __init__(self):\n",
        "        self.__listDict['example'] = [1,2,3,4,5]\n",
        "    \n",
        "    \"\"\"\n",
        "    show()\n",
        "    returns the names (= keys) of all dict items \n",
        "    \"\"\"\n",
        "    def show(self):\n",
        "        return self.__listDict.keys()\n",
        "    \n",
        "    \"\"\"\n",
        "    add()\n",
        "    adds new list to dict\n",
        "    \"\"\"\n",
        "    def add(self,name, newList):\n",
        "        self.__listDict[name] = newList\n",
        "    \n",
        "    \"\"\"\n",
        "    delete()\n",
        "    deletes list from dict\n",
        "    \"\"\"\n",
        "    def delete(self, name):\n",
        "        self.__listDict.pop(name)\n",
        "    \n",
        "    \"\"\"\n",
        "    sort()\n",
        "    sorts list of given name\n",
        "    \"\"\"\n",
        "    def sort(self, name):\n",
        "        self.__listDict[name].sort()\n",
        "    \n",
        "    \"\"\"\n",
        "    append()\n",
        "    appends list to existing entry\n",
        "    \"\"\"\n",
        "    def append(self, name, appList):\n",
        "        self.__listDict[name].extend(appList)\n",
        "        \n",
        "    \"\"\"\n",
        "    __getitem__()\n",
        "    overwrites the [] operator\n",
        "    \"\"\"    \n",
        "    def __getitem__(self, key):\n",
        "        return self.__listDict[key]"
      ],
      "metadata": {
        "id": "0BEedrBlCvFP"
      },
      "execution_count": 1,
      "outputs": []
    }
  ]
}